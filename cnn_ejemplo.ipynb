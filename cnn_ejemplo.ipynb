{
  "nbformat": 4,
  "nbformat_minor": 0,
  "metadata": {
    "colab": {
      "name": "cnn-ejemplo.ipynb",
      "version": "0.3.2",
      "provenance": [],
      "collapsed_sections": [],
      "include_colab_link": true
    },
    "kernelspec": {
      "name": "python3",
      "display_name": "Python 3"
    }
  },
  "cells": [
    {
      "cell_type": "markdown",
      "metadata": {
        "id": "view-in-github",
        "colab_type": "text"
      },
      "source": [
        "<a href=\"https://colab.research.google.com/github/ciencia-datos-unison/taller-cnn/blob/master/cnn_ejemplo.ipynb\" target=\"_parent\"><img src=\"https://colab.research.google.com/assets/colab-badge.svg\" alt=\"Open In Colab\"/></a>"
      ]
    },
    {
      "cell_type": "markdown",
      "metadata": {
        "id": "3HQlA3qodkiL",
        "colab_type": "text"
      },
      "source": [
        "<img src=\"https://raw.githubusercontent.com/rn-unison/rn-jupyter/master/cnn-sencilla/imagenes/rn3.png\" width=\"200\">\n",
        "\n",
        "<img src=\"http://www.identidadbuho.uson.mx/assets/letragrama-rgb-150.jpg\" width=\"200\">"
      ]
    },
    {
      "cell_type": "markdown",
      "metadata": {
        "id": "0rxMKge7ffHD",
        "colab_type": "text"
      },
      "source": [
        "# Una red neuronal convolucional simple \n",
        "\n",
        "\n",
        "[**Julio Waissman Vilanova**](http://mat.uson.mx/~juliowaissman/), 11 de junio de 2019.\n",
        "\n",
        "\n",
        "\n",
        "En esta libreta se muestra el ejemplo básico para una red convolucional\n",
        "aplicada al conjunto de datos [MNIST](http://yann.lecun.com/exdb/mnist/).\n",
        "La estructura de la red que vamos a hacer está inspirada (y es básicamente la misma) que la arquitectura conocisa como [LeNet 5](https://engmrk.com/lenet-5-a-classic-cnn-architecture/), la cual fue una de las primeras redes neuronales convolucionales exitosas."
      ]
    },
    {
      "cell_type": "code",
      "metadata": {
        "id": "YY2vyIEMauPT",
        "colab_type": "code",
        "colab": {}
      },
      "source": [
        "import numpy as np\n",
        "import tensorflow as t"
      ],
      "execution_count": 0,
      "outputs": []
    }
  ]
}