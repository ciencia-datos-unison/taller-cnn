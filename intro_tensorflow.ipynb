{
  "nbformat": 4,
  "nbformat_minor": 0,
  "metadata": {
    "colab": {
      "name": "intro-tensorflow.ipynb",
      "version": "0.3.2",
      "provenance": [],
      "collapsed_sections": [],
      "include_colab_link": true
    },
    "kernelspec": {
      "display_name": "Python [conda env:tensorflow]",
      "language": "python",
      "name": "conda-env-tensorflow-py"
    }
  },
  "cells": [
    {
      "cell_type": "markdown",
      "metadata": {
        "id": "view-in-github",
        "colab_type": "text"
      },
      "source": [
        "<a href=\"https://colab.research.google.com/github/ciencia-datos-unison/taller-cnn/blob/master/intro_tensorflow.ipynb\" target=\"_parent\"><img src=\"https://colab.research.google.com/assets/colab-badge.svg\" alt=\"Open In Colab\"/></a>"
      ]
    },
    {
      "cell_type": "markdown",
      "metadata": {
        "id": "apszCcNcXQyN",
        "colab_type": "text"
      },
      "source": [
        "<img src=\"https://github.com/rn-unison/rn-jupyter/blob/master/intro_tensorflow/imagenes/rn3.png?raw=1\" width=\"200\">\n",
        "\n",
        "<img src=\"http://www.identidadbuho.uson.mx/assets/letragrama-rgb-150.jpg\" width=\"200\">"
      ]
    },
    {
      "cell_type": "markdown",
      "metadata": {
        "id": "6q6dkH2HXQyQ",
        "colab_type": "text"
      },
      "source": [
        "\n",
        "# Operaciones básicas en TensorFlow\n",
        "\n",
        "[**Julio Waissman Vilanova**](http://mat.uson.mx/~juliowaissman/), 27 de septiembre de 2017.\n",
        "\n",
        "\n",
        "\n",
        "TensorFlow es un sistema de programación para representar calculos como grafos. Los nodos en el grafo son llamados *ops* (por operaciones). Una op toma de cero a muchos tensores, realiza algunos cálculos y produce cero o muchos tensores. Un tensor es un arreglo multidimensional con tipo fijo.\n",
        "\n",
        "Así, un grafo de TensorFlow no es más que una descripción de cálculos. El grafo que describe los calculos se realiza en una fase llamada de *construcción del grafo*. Pero para calcular cualquier cosa, es necesario ejecutar el grafo en una *Session*. Una Session coloca las ops del grafo en los *Devices* (como CPUs, GPUs), y provée métodos para ejecutarlos. Los métodos devuelven los tensores producidos por las ops como un `ndarray` de *numpy* en *Python* (o como un objeto de la clase `tensorflow::Tensor` en *C++*).  \n",
        "\n",
        "Para una revisión completa de tensorflow, recomiendo tener como referencia genera la página del [white paper on TensorFlow](https://github.com/samjabrahams/tensorflow-white-paper-notes), la cual contiene una explicación muy completa sobre la forma en que opera TensorFlow.\n",
        "\n",
        "Para una serie de ejemplos y proyectos realizados en TensorFlow, se puede revisar el proyecto de *GitHub* llamado [Awesome TensorFlow](https://github.com/jtoy/awesome-tensorflow).\n",
        "\n",
        "\n",
        "## Anatomia de un grafo extremadamente simple\n"
      ]
    },
    {
      "cell_type": "code",
      "metadata": {
        "id": "oUIAxC-aXQyR",
        "colab_type": "code",
        "colab": {}
      },
      "source": [
        "import tensorflow as tf"
      ],
      "execution_count": 0,
      "outputs": []
    },
    {
      "cell_type": "markdown",
      "metadata": {
        "id": "ewcZ9bvnXQyW",
        "colab_type": "text"
      },
      "source": [
        "Tensoflow tiene un grafo por default en el cual las ops generadas se agregan como nodos. Este grafo por default es suficiente para la mayoría de las aplicaciones y no esperamos utilizar otro. \n",
        "\n",
        "Lo que sigue no es necesario realizarlo, solo lo haremos con el fin de explorar como funciona TensorFlow:\n"
      ]
    },
    {
      "cell_type": "code",
      "metadata": {
        "id": "8FAkp9auXQyY",
        "colab_type": "code",
        "colab": {}
      },
      "source": [
        "graph = tf.get_default_graph()\n",
        "graph.get_operations()"
      ],
      "execution_count": 0,
      "outputs": []
    },
    {
      "cell_type": "markdown",
      "metadata": {
        "id": "7oNIu4PYXQyf",
        "colab_type": "text"
      },
      "source": [
        "Como vemos, en el grafo por default no se encuentra ningun nodo todavía. Vamos a agregar el nodo más sencillo posible: Una constante escalar."
      ]
    },
    {
      "cell_type": "code",
      "metadata": {
        "id": "8dzmNr-NXQyg",
        "colab_type": "code",
        "colab": {}
      },
      "source": [
        "entrada = tf.constant(1.0)"
      ],
      "execution_count": 0,
      "outputs": []
    },
    {
      "cell_type": "markdown",
      "metadata": {
        "id": "7AzntH8nXQyl",
        "colab_type": "text"
      },
      "source": [
        "Y ahora vamos a ver que se agregó en el grafo"
      ]
    },
    {
      "cell_type": "code",
      "metadata": {
        "id": "uNHYHCZcXQyn",
        "colab_type": "code",
        "colab": {}
      },
      "source": [
        "ops = graph.get_operations()\n",
        "print(\"Operaciones en el grafo por default de Tensorflow:\")\n",
        "print(ops)\n",
        "print(\"Definición de la primer operación\")\n",
        "print(ops[0].node_def)"
      ],
      "execution_count": 0,
      "outputs": []
    },
    {
      "cell_type": "markdown",
      "metadata": {
        "id": "19n7O0F5XQyr",
        "colab_type": "text"
      },
      "source": [
        "TensorFlow utiliza un protocol interno basado en JSON. ¿Porqué hacer una versión propia de\n",
        "la definición de cada cosa y no usar la que existe en *Python*? ¿Porqué no usar las variables que provée *Python* o *Numpy*?\n",
        "\n",
        "\n",
        "> To do efficient numerical computing in Python, we typically use libraries like NumPy that do expensive operations such as matrix multiplication outside Python, using highly efficient code implemented in another language. Unfortunately, there can still be a lot of overhead from switching back to Python every operation. This overhead is especially bad if you want to run computations on GPUs or in a distributed manner, where there can be a high cost to transferring data.\n",
        "\n",
        "> TensorFlow also does its heavy lifting outside Python, but it takes things a step further to avoid this overhead. Instead of running a single expensive operation independently from Python, TensorFlow lets us describe a graph of interacting operations that run entirely outside Python. This approach is similar to that used in Theano or Torch.\n",
        "\n",
        "Tensorflow no hace nada que no le indiques explicitamente, así sea asignar una constante. Más aun:"
      ]
    },
    {
      "cell_type": "code",
      "metadata": {
        "id": "G04cKsfFXQys",
        "colab_type": "code",
        "colab": {}
      },
      "source": [
        "entrada"
      ],
      "execution_count": 0,
      "outputs": []
    },
    {
      "cell_type": "markdown",
      "metadata": {
        "id": "mVI_0a-EXQyv",
        "colab_type": "text"
      },
      "source": [
        "Podemos ver la definición y el tipo, pero no sabemos el valor. Para esto hay que ejecutar una Session."
      ]
    },
    {
      "cell_type": "code",
      "metadata": {
        "id": "rd3X5wi5XQyw",
        "colab_type": "code",
        "colab": {}
      },
      "source": [
        "sess = tf.Session()\n",
        "print(sess.run(entrada))\n",
        "sess.close()"
      ],
      "execution_count": 0,
      "outputs": []
    },
    {
      "cell_type": "markdown",
      "metadata": {
        "id": "ALFEeP8gXQy0",
        "colab_type": "text"
      },
      "source": [
        "Al principio puede resultar cansado, ... y con el tiempo sigue siendo cansado, pero tiene su razón de ser cuando se trabaja con grandes volumenes de datos o grandes volumenes de operaciones.\n",
        "\n",
        "Ahora agreguemos una variable y veamos que pasa en el grafo."
      ]
    },
    {
      "cell_type": "code",
      "metadata": {
        "id": "Rszs0a-6XQy1",
        "colab_type": "code",
        "colab": {}
      },
      "source": [
        "x = tf.Variable(0.8)\n",
        "\n",
        "print(\"Operaciones en el grafo:\")\n",
        "for op in graph.get_operations(): \n",
        "    print(op.name)\n",
        "print(op.node_def)"
      ],
      "execution_count": 0,
      "outputs": []
    },
    {
      "cell_type": "markdown",
      "metadata": {
        "id": "u2_P80rqXQy4",
        "colab_type": "text"
      },
      "source": [
        "¡Una variable agrega 4 operaciones al grafo, no solo una!\n",
        "\n",
        "Vamos ahora a agregar una operacion entre la constante y la variable."
      ]
    },
    {
      "cell_type": "code",
      "metadata": {
        "id": "AayQyJDTXQy5",
        "colab_type": "code",
        "colab": {}
      },
      "source": [
        "y = tf.multiply(entrada, x)\n",
        "\n",
        "print(\"Operaciones en el grafo:\")\n",
        "for op in graph.get_operations(): \n",
        "    print(op.name)\n",
        "\n",
        "print(\"\\nEntradas para la multiplicación\")\n",
        "for op_input in op.inputs: \n",
        "    print(op_input)\n",
        "    "
      ],
      "execution_count": 0,
      "outputs": []
    },
    {
      "cell_type": "markdown",
      "metadata": {
        "id": "nvNgARrRXQy8",
        "colab_type": "text"
      },
      "source": [
        "Y como vemos, la multiplicación reconoce cuales ops hay que realizar para poder calcular a su vez esta op. Por supuesto que revisar un grafo de esta manera solo es posible si es así de sencillo, y para eso no requeriríamos usar TensorFlow. Más adelante lo veremos.\n",
        "\n",
        "Para calcular esto necesitamos asegurar que las variables se encuentran correctamente inicializadas (en este caso es solo una, pero podría haber muchas). Por esto, antes de ejecutar la Session, es necesario inicializar *todas* las variables."
      ]
    },
    {
      "cell_type": "code",
      "metadata": {
        "id": "GuHb9ux2XQy9",
        "colab_type": "code",
        "colab": {}
      },
      "source": [
        "sess = tf.Session()\n",
        "init = tf.global_variables_initializer()\n",
        "sess.run(init)\n",
        "\n",
        "print(sess.run(y))\n",
        "\n",
        "sess.close()"
      ],
      "execution_count": 0,
      "outputs": []
    },
    {
      "cell_type": "markdown",
      "metadata": {
        "id": "C-CoD2zHXQy_",
        "colab_type": "text"
      },
      "source": [
        "Lo que es, de acuerdo a una multiplicacion de flotantes de 32 bits el resultado de 1.0 * 8.0. Una sesión debe siempre de cerrarse para liberar los recursos.\n",
        "\n",
        "Ahora, si construimos un grafo y queremos estar seguros que lo que hicimos es lo que queremos, es conveniente poder observar el grafo de mejor manera. Para eso vamos a utilizar *TensorBoard*. \n",
        "\n",
        "Reiniciemos el grafo de mejor manera."
      ]
    },
    {
      "cell_type": "code",
      "metadata": {
        "id": "kimz67UmXQzA",
        "colab_type": "code",
        "colab": {}
      },
      "source": [
        "tf.reset_default_graph()\n",
        "sess = tf.Session()\n",
        "\n",
        "x = tf.constant(1.0, name='entrada')\n",
        "w = tf.Variable(0.8, name='peso')\n",
        "y = tf.multiply(w, x, name='salida')\n"
      ],
      "execution_count": 0,
      "outputs": []
    },
    {
      "cell_type": "markdown",
      "metadata": {
        "id": "lr8KQw63XQzD",
        "colab_type": "text"
      },
      "source": [
        "Y ahora guardemos este grafo en un conjunto de archivos dentro del directorio `ejemplo_simple` (si el directorio no existe, lo crea el comando)."
      ]
    },
    {
      "cell_type": "code",
      "metadata": {
        "id": "pXeO6WTGXQzD",
        "colab_type": "code",
        "colab": {}
      },
      "source": [
        "from google.colab import drive\n",
        "drive.mount('/content/gdrive')\n",
        "\n",
        "summary_writer = tf.summary.FileWriter('/content/gdrive/My Drive/ejemplo_simple', sess.graph)\n",
        "sess.close()"
      ],
      "execution_count": 0,
      "outputs": []
    },
    {
      "cell_type": "markdown",
      "metadata": {
        "id": "TbT2U38yXQzG",
        "colab_type": "text"
      },
      "source": [
        "El grafo lo podemos visualizar ejecutando en la terminal\n",
        "\n",
        "```\n",
        "tensorboard --logdir=ejemplo_simple\n",
        "```\n",
        "\n",
        "Y buscarlo en el navegador web en la dirección `localhost:6006`.\n",
        "\n",
        "Pero antes necesitamos instalar un paquete para colab"
      ]
    },
    {
      "cell_type": "code",
      "metadata": {
        "id": "teul97z2lL4o",
        "colab_type": "code",
        "colab": {}
      },
      "source": [
        "!pip install tensorboardcolab\n",
        "from tensorboardcolab import TensorBoardColab\n",
        "! tensorboard --logdir=ejemplo_simple\n",
        "\n",
        "tbc=TensorBoardColab()"
      ],
      "execution_count": 0,
      "outputs": []
    },
    {
      "cell_type": "markdown",
      "metadata": {
        "id": "tkqllPkaaNNd",
        "colab_type": "text"
      },
      "source": [
        ""
      ]
    },
    {
      "cell_type": "code",
      "metadata": {
        "scrolled": true,
        "id": "Gd9DhoXZXQzI",
        "colab_type": "code",
        "colab": {}
      },
      "source": [
        "! tensorboard --logdir='/content/gdrive/My Drive/ejemplo_simple'"
      ],
      "execution_count": 0,
      "outputs": []
    },
    {
      "cell_type": "markdown",
      "metadata": {
        "id": "G2v9hfejXQzL",
        "colab_type": "text"
      },
      "source": [
        "### Ejercicio: Explica que pasa aqui."
      ]
    },
    {
      "cell_type": "markdown",
      "metadata": {
        "id": "Vk192qR_XQzL",
        "colab_type": "text"
      },
      "source": [
        "## Construcción de un grafo más elaborado"
      ]
    },
    {
      "cell_type": "code",
      "metadata": {
        "id": "F6raHXgkXQzM",
        "colab_type": "code",
        "colab": {}
      },
      "source": [
        "tf.reset_default_graph()\n",
        "\n",
        "# Create a Constant op that produces a 1x2 matrix.  The op is\n",
        "# added as a node to the default graph.\n",
        "#\n",
        "# The value returned by the constructor represents the output\n",
        "# of the Constant op.\n",
        "matrix1 = tf.constant([3., 3.])\n",
        "\n",
        "# Create another Constant that produces a 2x1 matrix.\n",
        "matrix2 = tf.constant([[2.],[2.]])\n",
        "\n",
        "# Create a Matmul op that takes 'matrix1' and 'matrix2' as inputs.\n",
        "# The returned value, 'product', represents the result of the matrix\n",
        "# multiplication.\n",
        "product1 = tf.matmul(matrix1, matrix2)\n",
        "product2 = tf.matmul(matrix2, matrix1)\n",
        "tf.max\n"
      ],
      "execution_count": 0,
      "outputs": []
    },
    {
      "cell_type": "markdown",
      "metadata": {
        "id": "AiN7k2-UXQzO",
        "colab_type": "text"
      },
      "source": [
        "## Ejecutando la sesion"
      ]
    },
    {
      "cell_type": "code",
      "metadata": {
        "id": "Wq7sluxGXQzO",
        "colab_type": "code",
        "colab": {}
      },
      "source": [
        "with tf.Session() as sess:\n",
        "    # To run the matmul op we call the session 'run()' method, passing 'product'\n",
        "    # which represents the output of the matmul op.  This indicates to the call\n",
        "    # that we want to get the output of the matmul op back.\n",
        "    #\n",
        "    # All inputs needed by the op are run automatically by the session.  They\n",
        "    # typically are run in parallel.\n",
        "    result = sess.run([product1, product2])\n",
        "    print(\"product1 =  \\n{}\".format(result[0]))\n",
        "    print(\"product2 = \\n{}\".format(result[1]))"
      ],
      "execution_count": 0,
      "outputs": []
    },
    {
      "cell_type": "markdown",
      "metadata": {
        "id": "1lCf2Mh4XQzQ",
        "colab_type": "text"
      },
      "source": [
        "## Uso interactivo\n",
        "\n",
        "Con el fin de utilizar Tensorflow dentro de un entorno ipython con el fin de realizar prototipos, el modulo viene con clases que pueden ser utilizadas dentro del REPL."
      ]
    },
    {
      "cell_type": "code",
      "metadata": {
        "id": "zgZ9PFxGXQzQ",
        "colab_type": "code",
        "colab": {}
      },
      "source": [
        "# Enter an interactive TensorFlow Session.\n",
        "sess = tf.InteractiveSession()\n",
        "\n",
        "x = tf.Variable([1.0, 2.0])\n",
        "a = tf.constant([3.0, 3.0])\n",
        "\n",
        "# Initialize 'x' using the run() method of its initializer op.\n",
        "x.initializer.run()\n",
        "\n",
        "# Add an op to subtract 'a' from 'x'.  Run it and print the result\n",
        "sub = tf.subtract(x, a)\n",
        "print(sub.eval())\n",
        "# ==> [-2. -1.]\n",
        "\n",
        "# Close the Session when we're done.\n",
        "sess.close()"
      ],
      "execution_count": 0,
      "outputs": []
    },
    {
      "cell_type": "markdown",
      "metadata": {
        "id": "g1mI5bitXQzT",
        "colab_type": "text"
      },
      "source": [
        "## Manejo de variables y su actualización\n",
        "\n",
        "Las variables mantienen su valor durante la ejecución, y únicamente cambian su valor a través de ops bien establecidas, cuyo fin es modificar el valor de las variables. La ops más directa es `assign` que se usa como se muestra a continuación."
      ]
    },
    {
      "cell_type": "code",
      "metadata": {
        "id": "pQ0bZ3ibXQzT",
        "colab_type": "code",
        "colab": {}
      },
      "source": [
        "# Create a Variable, that will be initialized to the scalar value 0.\n",
        "state = tf.Variable(0, name=\"counter\")\n",
        "\n",
        "# Create an Op to add one to `state`.\n",
        "\n",
        "one = tf.constant(1)\n",
        "new_value = tf.add(state, one)\n",
        "update = tf.assign(state, new_value)\n",
        "\n",
        "# Variables must be initialized by running an `init` Op after having\n",
        "# launched the graph.  We first have to add the `init` Op to the graph.\n",
        "init_op = tf.global_variables_initializer()\n",
        "\n",
        "# Launch the graph and run the ops.\n",
        "with tf.Session() as sess:\n",
        "  # Run the 'init' op\n",
        "  sess.run(init_op)\n",
        "  # Print the initial value of 'state'\n",
        "  print(sess.run(state))\n",
        "  # Run the op that updates 'state' and print 'state'.\n",
        "  for _ in range(5):\n",
        "    sess.run(update)\n",
        "    print(sess.run(state))\n"
      ],
      "execution_count": 0,
      "outputs": []
    },
    {
      "cell_type": "markdown",
      "metadata": {
        "id": "Ko44e9KzXQzV",
        "colab_type": "text"
      },
      "source": [
        "## Alimentación (Feeds)\n",
        "\n",
        "Hasta ahorita, en los ejemplos no utilizamos datos para las entradas, solamente valores constantes. \n",
        "TensorFlow permite (por supuesto) el uso de valores de entrada que modifican un tensor directamente en el grafo de operaciones. \n",
        "\n",
        "Una alimentación (feed) reemplaza temporalmente la salida de una operación con el valor de un tensor. Por cada llamada a `run()` los datos se envían como argumento al grafo. La alimentación es usada *únicamente* en dicha llamada. La forma típica de agregar feeds a un grafo, es utilizando las operaciones asociadas a `tf.placeholder()` como se muestra en el ejemplo:\n"
      ]
    },
    {
      "cell_type": "code",
      "metadata": {
        "id": "RyTJh68HXQzW",
        "colab_type": "code",
        "colab": {}
      },
      "source": [
        "input1 = tf.placeholder(tf.float32)\n",
        "input2 = tf.placeholder(tf.float32)\n",
        "output = tf.multiply(input1, input2)\n",
        "\n",
        "with tf.Session() as sess:\n",
        "  print(sess.run([output], feed_dict={input1:[7, 5, 1], input2:[2, 6.3]}))\n"
      ],
      "execution_count": 0,
      "outputs": []
    },
    {
      "cell_type": "markdown",
      "metadata": {
        "id": "hpYGJ6hmXQzX",
        "colab_type": "text"
      },
      "source": [
        "Si no se alimenta con datos un feed en una ejecución, TensorFlow genera un error."
      ]
    }
  ]
}